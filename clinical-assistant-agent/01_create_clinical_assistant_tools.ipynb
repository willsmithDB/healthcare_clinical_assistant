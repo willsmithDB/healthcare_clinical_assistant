{
 "cells": [
  {
   "cell_type": "markdown",
   "metadata": {
    "application/vnd.databricks.v1+cell": {
     "cellMetadata": {},
     "inputWidgets": {},
     "nuid": "d36b3ab3-52ff-4a9b-9603-733f4011c4b0",
     "showTitle": false,
     "tableResultSettingsMap": {},
     "title": ""
    }
   },
   "source": [
    "# Building Agent Systems with Databricks -- HealthVerity Clinical Assistant Demo\n",
    "\n",
    "## Part 1 - Architect Your First Agent\n",
    "This agent will follow the workflow of a healthcare provider analyzing patient data to illustrate various agent capabilities using HealthVerity's real-world healthcare dataset. \n",
    "We'll assume the provider would be trying to quickly understand a patient's healthcare journey across medical claims, pharmacy data, and procedures to make informed clinical decisions.\n",
    "\n",
    "### 1.1 Build Simple Tools\n",
    "- **SQL Functions**: Create queries that access HealthVerity's real-world healthcare data including medical claims, pharmacy claims, diagnoses, and procedures.\n",
    "- **Simple Python Function**: Create and register a Python function to overcome some common limitations of language models when analyzing healthcare data.\n",
    "\n",
    "### 1.2 Integrate with an LLM [AI Playground]\n",
    "- Combine the tools you created with a Language Model (LLM) in the AI Playground.\n",
    "\n",
    "### 1.3 Test the Agent [AI Playground]\n",
    "- Ask the agent a question and observe the response.\n",
    "- Dive deeper into the agent’s performance by exploring MLflow traces.\n"
   ]
  },
  {
   "cell_type": "code",
   "execution_count": 0,
   "metadata": {
    "application/vnd.databricks.v1+cell": {
     "cellMetadata": {
      "byteLimit": 2048000,
      "rowLimit": 10000
     },
     "inputWidgets": {},
     "nuid": "c087ccb2-88b5-4386-b177-3d413084de16",
     "showTitle": true,
     "tableResultSettingsMap": {},
     "title": "Library Installs"
    }
   },
   "outputs": [],
   "source": [
    "%pip install -qqqq -r requirements.txt\n",
    "# Restart to load the packages into the Python environment\n",
    "dbutils.library.restartPython()"
   ]
  },
  {
   "cell_type": "code",
   "execution_count": 0,
   "metadata": {
    "application/vnd.databricks.v1+cell": {
     "cellMetadata": {
      "byteLimit": 2048000,
      "rowLimit": 10000
     },
     "inputWidgets": {},
     "nuid": "ba4d8232-673e-4a88-bec2-4f057b078faf",
     "showTitle": false,
     "tableResultSettingsMap": {},
     "title": ""
    }
   },
   "outputs": [],
   "source": [
    "import yaml\n",
    "\n",
    "with open(\"config.yaml\", \"r\") as f:\n",
    "    config = yaml.safe_load(f)\n",
    "\n",
    "source_catalog_name = config[\"source_catalog_name\"]\n",
    "source_schema_name = config[\"source_schema_name\"]\n",
    "target_catalog_name = config[\"target_catalog_name\"]\n",
    "target_schema_name = config[\"target_schema_name\"]\n",
    "service_date = config[\"service_date\"]\n",
    "claim_id = config[\"claim_id\"]\n",
    "patient_id = config[\"patient_id\"]\n",
    "diagnosis_code = config[\"diagnosis_code\"]\n",
    "ndc_code = config[\"ndc_code\"]\n",
    "model_uc_name = config[\"model_uc_name\"]\n",
    "alias = config[\"alias\"]\n",
    "endpoint_name = config[\"endpoint_name\"]"
   ]
  },
  {
   "cell_type": "code",
   "execution_count": 0,
   "metadata": {
    "application/vnd.databricks.v1+cell": {
     "cellMetadata": {
      "byteLimit": 2048000,
      "rowLimit": 10000
     },
     "inputWidgets": {},
     "nuid": "5f633b50-d5cf-43a4-9b4a-4d95167456f8",
     "showTitle": true,
     "tableResultSettingsMap": {},
     "title": "Parameter Configs"
    }
   },
   "outputs": [],
   "source": [
    "from databricks.sdk import WorkspaceClient\n",
    "import yaml\n",
    "import os\n",
    "\n",
    "w = WorkspaceClient()\n",
    "workspace_id = str(w.get_workspace_id())\n",
    "\n",
    "print(f\"Source data from: {source_catalog_name}.{source_schema_name}\")\n",
    "print(f\"Target functions will be created in: {target_catalog_name}.{target_schema_name}\")"
   ]
  },
  {
   "cell_type": "code",
   "execution_count": 0,
   "metadata": {
    "application/vnd.databricks.v1+cell": {
     "cellMetadata": {
      "byteLimit": 2048000,
      "rowLimit": 10000
     },
     "inputWidgets": {},
     "nuid": "df2cd76b-2171-4cb6-bbcf-50dd9faee077",
     "showTitle": false,
     "tableResultSettingsMap": {},
     "title": ""
    }
   },
   "outputs": [],
   "source": [
    "dbutils.widgets.removeAll()"
   ]
  },
  {
   "cell_type": "code",
   "execution_count": 0,
   "metadata": {
    "application/vnd.databricks.v1+cell": {
     "cellMetadata": {
      "byteLimit": 2048000,
      "rowLimit": 10000
     },
     "inputWidgets": {},
     "nuid": "a34a8875-c465-4463-9ead-054262d2d74f",
     "showTitle": false,
     "tableResultSettingsMap": {},
     "title": ""
    }
   },
   "outputs": [],
   "source": [
    "# Allows us to reference these values directly in the SQL/Python function creation\n",
    "dbutils.widgets.text(\"source_catalog_name\", defaultValue=source_catalog_name)\n",
    "dbutils.widgets.text(\"source_schema_name\", defaultValue=source_schema_name)\n",
    "dbutils.widgets.text(\"target_catalog_name\", defaultValue=target_catalog_name)\n",
    "dbutils.widgets.text(\"target_schema_name\", defaultValue=target_schema_name)\n",
    "dbutils.widgets.text(\"workspace_id\", defaultValue=workspace_id)\n",
    "dbutils.widgets.text(\"service_date\", defaultValue=service_date)\n",
    "\n",
    "dbutils.widgets.text(\"claim_id\", defaultValue=claim_id)\n",
    "dbutils.widgets.text(\"patient_id\", defaultValue=patient_id)\n",
    "dbutils.widgets.text(\"diagnosis_code\", defaultValue=diagnosis_code)\n",
    "dbutils.widgets.text(\"ndc_code\", defaultValue=ndc_code)"
   ]
  },
  {
   "cell_type": "code",
   "execution_count": 0,
   "metadata": {
    "application/vnd.databricks.v1+cell": {
     "cellMetadata": {
      "byteLimit": 2048000,
      "rowLimit": 10000
     },
     "inputWidgets": {},
     "nuid": "94704881-156a-41cf-b01a-792f640ba7fa",
     "showTitle": false,
     "tableResultSettingsMap": {},
     "title": ""
    }
   },
   "outputs": [],
   "source": [
    "spark.sql(f\"CREATE SCHEMA IF NOT EXISTS {target_catalog_name}.{target_schema_name}\")"
   ]
  },
  {
   "cell_type": "markdown",
   "metadata": {
    "application/vnd.databricks.v1+cell": {
     "cellMetadata": {},
     "inputWidgets": {},
     "nuid": "6c8c76ed-12c1-4fa3-a37d-42fe3f78661e",
     "showTitle": false,
     "tableResultSettingsMap": {},
     "title": ""
    }
   },
   "source": [
    "# HealthVerity Clinical Assistant Workflow\n",
    "\n",
    "Below is a structured outline of the **key steps** a healthcare provider might follow when **analyzing patient data using HealthVerity's real-world healthcare dataset**. \n",
    "---\n",
    "\n",
    "## 1. Get patient enrollment and demographics\n",
    "- **Action**: Retrieve patient enrollment information and demographics from the enrollment table\n",
    "- **Why**: Understanding patient demographics, enrollment periods, and benefit types provides essential context for healthcare analysis.\n",
    "\n",
    "---"
   ]
  },
  {
   "cell_type": "code",
   "execution_count": 0,
   "metadata": {
    "application/vnd.databricks.v1+cell": {
     "cellMetadata": {
      "byteLimit": 2048000,
      "implicitDf": true,
      "rowLimit": 10000
     },
     "inputWidgets": {},
     "nuid": "1a2c00af-26b4-46b7-ae77-750e487a5de7",
     "showTitle": true,
     "tableResultSettingsMap": {},
     "title": "Get patient enrollment information"
    }
   },
   "outputs": [],
   "source": [
    "%sql\n",
    "-- find patient enrollment information given a patient id\n",
    "select * from IDENTIFIER(:source_catalog_name || '.' || :source_schema_name || '.' || 'enrollment')\n",
    "where patient_id = :patient_id\n",
    "order by date_start desc\n",
    "limit 1;"
   ]
  },
  {
   "cell_type": "code",
   "execution_count": 0,
   "metadata": {
    "application/vnd.databricks.v1+cell": {
     "cellMetadata": {
      "byteLimit": 2048000,
      "implicitDf": true,
      "rowLimit": 10000
     },
     "inputWidgets": {},
     "nuid": "93abb7c4-c0e6-43c4-a629-d10dfc0d73e8",
     "showTitle": true,
     "tableResultSettingsMap": {},
     "title": "Create a function registered to Unity Catalog for getting patient enrollment"
    }
   },
   "outputs": [],
   "source": [
    "%sql\n",
    "-- First lets make sure it doesn't already exist\n",
    "DROP FUNCTION IF EXISTS IDENTIFIER(:target_catalog_name || '.' || :target_schema_name || '.' || 'get_patient_enrollment');\n",
    "\n",
    "-- Now we create our first function. This takes in patient id and returns enrollment information.\n",
    "CREATE OR REPLACE FUNCTION ${target_catalog_name}.${target_schema_name}.get_patient_enrollment(\n",
    "  patient_id STRING COMMENT 'The patient id'\n",
    "  )\n",
    "RETURNS TABLE (\n",
    "  patient_id STRING, \n",
    "  patient_gender STRING, \n",
    "  patient_year_of_birth STRING, \n",
    "  patient_zip3 STRING, \n",
    "  patient_state STRING, \n",
    "  date_start DATE, \n",
    "  date_end DATE,\n",
    "  benefit_type STRING,\n",
    "  pay_type STRING\n",
    ")\n",
    "COMMENT 'Returns patient enrollment information including demographics, enrollment dates, and benefit details for a particular patient given their unique patient ID.'\n",
    "RETURN\n",
    "(\n",
    "  SELECT \n",
    "    patient_id, \n",
    "    patient_gender, \n",
    "    patient_year_of_birth, \n",
    "    patient_zip3, \n",
    "    patient_state, \n",
    "    date_start, \n",
    "    date_end,\n",
    "    benefit_type,\n",
    "    pay_type\n",
    "  FROM ${source_catalog_name}.${source_schema_name}.enrollment\n",
    "  WHERE patient_id = patient_id\n",
    "  ORDER BY date_start DESC\n",
    "  LIMIT 1\n",
    ");"
   ]
  },
  {
   "cell_type": "code",
   "execution_count": 0,
   "metadata": {
    "application/vnd.databricks.v1+cell": {
     "cellMetadata": {
      "byteLimit": 2048000,
      "implicitDf": true,
      "rowLimit": 10000
     },
     "inputWidgets": {},
     "nuid": "2aa2e0b8-852c-4e42-ad41-d390844c36c8",
     "showTitle": true,
     "tableResultSettingsMap": {},
     "title": "Test function call to retrieve patient enrollment"
    }
   },
   "outputs": [],
   "source": [
    "%sql\n",
    "select * from ${target_catalog_name}.${target_schema_name}.get_patient_enrollment(:patient_id)"
   ]
  },
  {
   "cell_type": "markdown",
   "metadata": {
    "application/vnd.databricks.v1+cell": {
     "cellMetadata": {},
     "inputWidgets": {},
     "nuid": "e8569b9c-e370-4496-89ca-34d12277c4f5",
     "showTitle": false,
     "tableResultSettingsMap": {},
     "title": ""
    }
   },
   "source": [
    "---\n",
    "\n",
    "## 2. Retrieve Medical Claims\n",
    "- **Action**: Access medical claims data for a patient on a specific service date\n",
    "- **Why**: Medical claims provide detailed information about healthcare services, procedures, and costs for comprehensive patient analysis.\n",
    "\n",
    "---"
   ]
  },
  {
   "cell_type": "code",
   "execution_count": 0,
   "metadata": {
    "application/vnd.databricks.v1+cell": {
     "cellMetadata": {
      "byteLimit": 2048000,
      "implicitDf": true,
      "rowLimit": 10000
     },
     "inputWidgets": {},
     "nuid": "50865757-c170-480e-8e69-61cf3101bb48",
     "showTitle": true,
     "tableResultSettingsMap": {},
     "title": "Create function to retrieve medical claims"
    }
   },
   "outputs": [],
   "source": [
    "%sql\n",
    "-- First lets make sure it doesn't already exist\n",
    "DROP FUNCTION IF EXISTS IDENTIFIER(:target_catalog_name || '.' || :target_schema_name || '.' || 'get_medical_claims');\n",
    "\n",
    "-- Now we create our second function. This takes in patient_id and service_date\n",
    "CREATE OR REPLACE FUNCTION ${target_catalog_name}.${target_schema_name}.get_medical_claims(\n",
    "  patient_input_id STRING COMMENT 'The patient id', \n",
    "  service_date DATE COMMENT 'The date of service'\n",
    "  )\n",
    "RETURNS TABLE (\n",
    "  claim_id STRING, \n",
    "  patient_id STRING, \n",
    "  date_service DATE, \n",
    "  date_service_end DATE,\n",
    "  location_of_care STRING,\n",
    "  pay_type STRING\n",
    ")\n",
    "COMMENT 'Returns medical claims information including claim id, patient id, service dates, location of care, and payment type for a particular patient on a specific service date'\n",
    "RETURN\n",
    "(\n",
    "  SELECT \n",
    "    claim_id, \n",
    "    patient_id, \n",
    "    date_service, \n",
    "    date_service_end,\n",
    "    location_of_care,\n",
    "    pay_type\n",
    "  FROM ${source_catalog_name}.${source_schema_name}.medical_claim\n",
    "  WHERE patient_id = patient_input_id and date_service = service_date\n",
    ");"
   ]
  },
  {
   "cell_type": "code",
   "execution_count": 0,
   "metadata": {
    "application/vnd.databricks.v1+cell": {
     "cellMetadata": {
      "byteLimit": 2048000,
      "implicitDf": true,
      "rowLimit": 10000
     },
     "inputWidgets": {},
     "nuid": "4541a6dc-3969-4818-9a9d-d4523343fe66",
     "showTitle": true,
     "tableResultSettingsMap": {},
     "title": "Test function"
    }
   },
   "outputs": [],
   "source": [
    "%sql\n",
    "select * from ${target_catalog_name}.${target_schema_name}.get_medical_claims(:patient_id, :service_date)"
   ]
  },
  {
   "cell_type": "markdown",
   "metadata": {
    "application/vnd.databricks.v1+cell": {
     "cellMetadata": {},
     "inputWidgets": {},
     "nuid": "18d1f34b-a580-4a3f-a192-d3128b7f5b84",
     "showTitle": false,
     "tableResultSettingsMap": {},
     "title": ""
    }
   },
   "source": [
    "---\n",
    "\n",
    "## 3. Make Functions for Diagnosis Codes and Pharmacy Claims\n",
    "- **Action**: get information about diagnosis codes for a patient and retrieve pharmacy claims data\n",
    "- **Why**: Healthcare providers need to understand patient conditions through diagnosis codes and medication history through pharmacy claims for comprehensive care analysis"
   ]
  },
  {
   "cell_type": "code",
   "execution_count": 0,
   "metadata": {
    "application/vnd.databricks.v1+cell": {
     "cellMetadata": {
      "byteLimit": 2048000,
      "implicitDf": true,
      "rowLimit": 10000
     },
     "inputWidgets": {},
     "nuid": "7569cb18-5930-46ac-a544-20f1f6352746",
     "showTitle": true,
     "tableResultSettingsMap": {},
     "title": "test sql query for patient diagnoses"
    }
   },
   "outputs": [],
   "source": [
    "%sql\n",
    "-- first one gets diagnosis information for a specific patient\n",
    "select patient_id, claim_id, date_service, diagnosis_code, diagnosis_qual, admit_diagnosis_ind\n",
    "from IDENTIFIER(:source_catalog_name || '.' || :source_schema_name || '.' || 'diagnosis')\n",
    "where patient_id = :patient_id;"
   ]
  },
  {
   "cell_type": "code",
   "execution_count": 0,
   "metadata": {
    "application/vnd.databricks.v1+cell": {
     "cellMetadata": {
      "byteLimit": 2048000,
      "implicitDf": true,
      "rowLimit": 10000
     },
     "inputWidgets": {},
     "nuid": "51ce49cf-57f3-4c41-85e0-8d54ac11c322",
     "showTitle": true,
     "tableResultSettingsMap": {},
     "title": "test sql query for pharmacy claims"
    }
   },
   "outputs": [],
   "source": [
    "%sql\n",
    "-- second one returns pharmacy claims for a given patient\n",
    "select claim_id, patient_id, date_service, ndc, fill_number, days_supply, dispensed_quantity, pay_type, copay_coinsurance\n",
    "from IDENTIFIER(:source_catalog_name || '.' || :source_schema_name || '.' || 'pharmacy_claim')\n",
    "where patient_id = :patient_id;"
   ]
  },
  {
   "cell_type": "code",
   "execution_count": 0,
   "metadata": {
    "application/vnd.databricks.v1+cell": {
     "cellMetadata": {
      "byteLimit": 2048000,
      "implicitDf": true,
      "rowLimit": 10000
     },
     "inputWidgets": {},
     "nuid": "e7a1a7fb-6070-4336-b501-be8f2bc6249d",
     "showTitle": true,
     "tableResultSettingsMap": {},
     "title": "make function for patient diagnoses"
    }
   },
   "outputs": [],
   "source": [
    "%sql\n",
    "-- First lets make sure it doesn't already exist\n",
    "DROP FUNCTION IF EXISTS IDENTIFIER(:target_catalog_name || '.' || :target_schema_name || '.' || 'get_patient_diagnoses');\n",
    "\n",
    "-- This takes in patient_id to get all diagnosis codes for that patient\n",
    "CREATE OR REPLACE FUNCTION ${target_catalog_name}.${target_schema_name}.get_patient_diagnoses(\n",
    "  patient_input_id STRING COMMENT 'The patient id'\n",
    "  )\n",
    "RETURNS TABLE (\n",
    "  claim_id STRING, \n",
    "  patient_id STRING, \n",
    "  date_service DATE, \n",
    "  date_service_end DATE,\n",
    "  diagnosis_code STRING,\n",
    "  diagnosis_qual STRING,\n",
    "  admit_diagnosis_ind STRING\n",
    ")\n",
    "COMMENT 'Returns diagnosis information including claim id, patient id, service dates, diagnosis code, qualifier, and admission diagnosis indicator for a specific patient'\n",
    "RETURN\n",
    "(\n",
    "  SELECT \n",
    "    claim_id, \n",
    "    patient_id, \n",
    "    date_service, \n",
    "    date_service_end,\n",
    "    diagnosis_code,\n",
    "    diagnosis_qual,\n",
    "    admit_diagnosis_ind\n",
    "  FROM ${source_catalog_name}.${source_schema_name}.diagnosis\n",
    "  WHERE patient_id = patient_input_id\n",
    "  ORDER BY date_service DESC\n",
    "  LIMIT 50\n",
    ");"
   ]
  },
  {
   "cell_type": "code",
   "execution_count": 0,
   "metadata": {
    "application/vnd.databricks.v1+cell": {
     "cellMetadata": {
      "byteLimit": 2048000,
      "implicitDf": true,
      "rowLimit": 10000
     },
     "inputWidgets": {},
     "nuid": "d7c65dc8-b8f9-44f2-b474-20503e503ede",
     "showTitle": true,
     "tableResultSettingsMap": {},
     "title": "test func for getting patient diagnoses"
    }
   },
   "outputs": [],
   "source": [
    "%sql\n",
    "select * from ${target_catalog_name}.${target_schema_name}.get_patient_diagnoses(:patient_id)"
   ]
  },
  {
   "cell_type": "code",
   "execution_count": 0,
   "metadata": {
    "application/vnd.databricks.v1+cell": {
     "cellMetadata": {
      "byteLimit": 2048000,
      "implicitDf": true,
      "rowLimit": 10000
     },
     "inputWidgets": {},
     "nuid": "93750830-19e3-4f16-a90b-f97987fb316c",
     "showTitle": true,
     "tableResultSettingsMap": {},
     "title": "make function for getting pharmacy claims"
    }
   },
   "outputs": [],
   "source": [
    "%sql\n",
    "\n",
    "-- First lets make sure it doesn't already exist\n",
    "DROP FUNCTION IF EXISTS IDENTIFIER(:target_catalog_name || '.' || :target_schema_name || '.' || 'get_pharmacy_claims');\n",
    "\n",
    "-- This takes in patient_id to get pharmacy claims\n",
    "CREATE OR REPLACE FUNCTION ${target_catalog_name}.${target_schema_name}.get_pharmacy_claims(\n",
    "  patient_input_id STRING COMMENT 'The patient id'\n",
    "  )\n",
    "RETURNS TABLE (\n",
    "  claim_id STRING, \n",
    "  patient_id STRING,  \n",
    "  date_service DATE,\n",
    "  ndc STRING,\n",
    "  fill_number INT,\n",
    "  days_supply INT,\n",
    "  dispensed_quantity FLOAT,\n",
    "  pay_type STRING,\n",
    "  copay_coinsurance FLOAT,\n",
    "  submitted_gross_due FLOAT,\n",
    "  paid_gross_due FLOAT\n",
    ")\n",
    "COMMENT 'Returns pharmacy claims information including claim details, NDC codes, fill information, and payment details for a given patient. Example: claim_id: 66314b1117ffbdbbbbee693a9f69453d, ndc: 65162027250, days_supply: 30, dispensed_quantity: 1.0'\n",
    "RETURN\n",
    "(\n",
    "  SELECT \n",
    "    claim_id, \n",
    "    patient_id,  \n",
    "    date_service,\n",
    "    ndc,\n",
    "    fill_number,\n",
    "    days_supply,\n",
    "    dispensed_quantity,\n",
    "    pay_type,\n",
    "    copay_coinsurance,\n",
    "    submitted_gross_due,\n",
    "    paid_gross_due\n",
    "  FROM ${source_catalog_name}.${source_schema_name}.pharmacy_claim\n",
    "  WHERE patient_id = patient_input_id\n",
    "  ORDER BY date_service DESC \n",
    "  LIMIT 50\n",
    ");"
   ]
  },
  {
   "cell_type": "code",
   "execution_count": 0,
   "metadata": {
    "application/vnd.databricks.v1+cell": {
     "cellMetadata": {
      "byteLimit": 2048000,
      "implicitDf": true,
      "rowLimit": 10000
     },
     "inputWidgets": {},
     "nuid": "78355ca1-b321-4b0a-beae-c18c606ba0ab",
     "showTitle": true,
     "tableResultSettingsMap": {},
     "title": "test function for pharmacy claims"
    }
   },
   "outputs": [],
   "source": [
    "%sql\n",
    "select * from ${target_catalog_name}.${target_schema_name}.get_pharmacy_claims(:patient_id)\n",
    "\n",
    "-- this will return all pharmacy claims for the patient including medication details and costs "
   ]
  },
  {
   "cell_type": "markdown",
   "metadata": {
    "application/vnd.databricks.v1+cell": {
     "cellMetadata": {},
     "inputWidgets": {},
     "nuid": "b037db92-6deb-4cfe-bfce-9931586f56b5",
     "showTitle": false,
     "tableResultSettingsMap": {},
     "title": ""
    }
   },
   "source": [
    "---\n",
    "\n",
    "## 4. Create Function for Procedure Analysis\n",
    "- **Action**: Retrieve procedure codes and details for comprehensive healthcare analysis\n",
    "- **Why**: Understanding procedures performed helps complete the patient's healthcare story alongside diagnoses and medications\n",
    "\n",
    "---"
   ]
  },
  {
   "cell_type": "code",
   "execution_count": 0,
   "metadata": {
    "application/vnd.databricks.v1+cell": {
     "cellMetadata": {
      "byteLimit": 2048000,
      "implicitDf": true,
      "rowLimit": 10000
     },
     "inputWidgets": {},
     "nuid": "ab20be62-87f9-4185-bb67-026aea819bf0",
     "showTitle": true,
     "tableResultSettingsMap": {},
     "title": "make function for getting procedure information"
    }
   },
   "outputs": [],
   "source": [
    "%sql\n",
    "\n",
    "-- First lets make sure it doesn't already exist\n",
    "DROP FUNCTION IF EXISTS IDENTIFIER(:target_catalog_name || '.' || :target_schema_name || '.' || 'get_patient_procedures');\n",
    "\n",
    "-- This takes in patient_id to get procedure information\n",
    "CREATE OR REPLACE FUNCTION ${target_catalog_name}.${target_schema_name}.get_patient_procedures(\n",
    "  patient_input_id STRING COMMENT 'The patient id'\n",
    "  )\n",
    "RETURNS TABLE (\n",
    "  claim_id STRING, \n",
    "  patient_id STRING,\n",
    "  service_line_number STRING,\n",
    "  date_service DATE,\n",
    "  date_service_end DATE,\n",
    "  procedure_code STRING,\n",
    "  procedure_qual STRING,\n",
    "  procedure_units FLOAT,\n",
    "  revenue_code STRING,\n",
    "  line_charge FLOAT,\n",
    "  line_allowed FLOAT\n",
    ")\n",
    "COMMENT 'Returns procedure information including claim details, procedure codes, service dates, units, and charges for a given patient'\n",
    "RETURN\n",
    "(\n",
    "  SELECT \n",
    "    claim_id, \n",
    "    patient_id,\n",
    "    service_line_number,\n",
    "    date_service,\n",
    "    date_service_end,\n",
    "    procedure_code,\n",
    "    procedure_qual,\n",
    "    procedure_units,\n",
    "    revenue_code,\n",
    "    line_charge,\n",
    "    line_allowed\n",
    "  FROM ${source_catalog_name}.${source_schema_name}.procedure\n",
    "  WHERE patient_id = patient_input_id\n",
    "  ORDER BY date_service DESC \n",
    "  LIMIT 50\n",
    ");"
   ]
  },
  {
   "cell_type": "code",
   "execution_count": 0,
   "metadata": {
    "application/vnd.databricks.v1+cell": {
     "cellMetadata": {
      "byteLimit": 2048000,
      "implicitDf": true,
      "rowLimit": 10000
     },
     "inputWidgets": {},
     "nuid": "02464daf-476f-49ba-b46f-76fe4c973026",
     "showTitle": true,
     "tableResultSettingsMap": {},
     "title": "test function for procedures"
    }
   },
   "outputs": [],
   "source": [
    "%sql\n",
    "select * from ${target_catalog_name}.${target_schema_name}.get_patient_procedures(:patient_id)"
   ]
  },
  {
   "cell_type": "code",
   "execution_count": 0,
   "metadata": {
    "application/vnd.databricks.v1+cell": {
     "cellMetadata": {
      "byteLimit": 2048000,
      "rowLimit": 10000
     },
     "inputWidgets": {},
     "nuid": "1d7f86cc-b326-4462-9bc7-6b07872caf33",
     "showTitle": true,
     "tableResultSettingsMap": {},
     "title": "Let's take a look at our created functions"
    }
   },
   "outputs": [],
   "source": [
    "from IPython.display import display, HTML\n",
    "\n",
    "# Retrieve the Databricks host URL\n",
    "workspace_url = spark.conf.get('spark.databricks.workspaceUrl')\n",
    "\n",
    "# Create HTML link to created functions\n",
    "html_link = f'<a href=\"https://{workspace_url}/explore/data/functions/{target_catalog_name}/{target_schema_name}/get_patient_enrollment\" target=\"_blank\">Go to Unity Catalog to see Registered Functions</a>'\n",
    "display(HTML(html_link))"
   ]
  },
  {
   "cell_type": "markdown",
   "metadata": {
    "application/vnd.databricks.v1+cell": {
     "cellMetadata": {},
     "inputWidgets": {},
     "nuid": "6fd23169-a6de-4076-af77-982798363b90",
     "showTitle": false,
     "tableResultSettingsMap": {},
     "title": ""
    }
   },
   "source": [
    "## Now lets go over to the AI Playground to see how we can use these functions and assemble our first HealthVerity Agent!\n",
    "\n",
    "### The AI Playground can be found on the left navigation bar under 'Machine Learning' or you can use the link created below\n",
    "\n",
    "Example questions to try:\n",
    "- `What is the healthcare journey for patient 4baf3314e4a181c5effcf2751fbe1e21?`\n",
    "- `What medications has patient 4baf3314e4a181c5effcf2751fbe1e21 been prescribed?`\n",
    "- `What are the diagnosis codes for patient 4baf3314e4a181c5effcf2751fbe1e21?`"
   ]
  },
  {
   "cell_type": "code",
   "execution_count": 0,
   "metadata": {
    "application/vnd.databricks.v1+cell": {
     "cellMetadata": {
      "byteLimit": 2048000,
      "rowLimit": 10000
     },
     "inputWidgets": {},
     "nuid": "d46bfcd7-078b-47fe-8a4a-f6e05ef97557",
     "showTitle": true,
     "tableResultSettingsMap": {},
     "title": "Create link to AI Playground"
    }
   },
   "outputs": [],
   "source": [
    "# Create HTML link to AI Playground\n",
    "html_link = f'<a href=\"https://{workspace_url}/ml/playground\" target=\"_blank\">Go to AI Playground</a>'\n",
    "display(HTML(html_link))"
   ]
  },
  {
   "cell_type": "code",
   "execution_count": 0,
   "metadata": {
    "application/vnd.databricks.v1+cell": {
     "cellMetadata": {},
     "inputWidgets": {},
     "nuid": "3589eda1-d8d8-48eb-a63b-ec8a188b2de5",
     "showTitle": false,
     "tableResultSettingsMap": {},
     "title": ""
    }
   },
   "outputs": [],
   "source": []
  }
 ],
 "metadata": {
  "application/vnd.databricks.v1+notebook": {
   "computePreferences": {
    "hardware": {
     "accelerator": null,
     "gpuPoolId": null,
     "memory": null
    }
   },
   "dashboards": [],
   "environmentMetadata": {
    "base_environment": "",
    "environment_version": "3"
   },
   "inputWidgetPreferences": null,
   "language": "python",
   "notebookMetadata": {
    "mostRecentlyExecutedCommandWithImplicitDF": {
     "commandId": 6506409081329727,
     "dataframes": [
      "_sqldf"
     ]
    },
    "pythonIndentUnit": 2
   },
   "notebookName": "01_create_clinical_assistant_tools",
   "widgets": {
    "claim_id": {
     "currentValue": "12390dfb568442cb957d5b3cfefe1119",
     "nuid": "8d1af173-5a13-474d-9727-1c9602ac29d9",
     "typedWidgetInfo": {
      "autoCreated": false,
      "defaultValue": "12390dfb568442cb957d5b3cfefe1119",
      "label": null,
      "name": "claim_id",
      "options": {
       "widgetDisplayType": "Text",
       "validationRegex": null
      },
      "parameterDataType": "String"
     },
     "widgetInfo": {
      "widgetType": "text",
      "defaultValue": "12390dfb568442cb957d5b3cfefe1119",
      "label": null,
      "name": "claim_id",
      "options": {
       "widgetType": "text",
       "autoCreated": false,
       "validationRegex": null
      }
     }
    },
    "diagnosis_code": {
     "currentValue": "Z79899",
     "nuid": "ae7795d6-319c-4fd2-b482-bd364a15613d",
     "typedWidgetInfo": {
      "autoCreated": false,
      "defaultValue": "Z79899",
      "label": null,
      "name": "diagnosis_code",
      "options": {
       "widgetDisplayType": "Text",
       "validationRegex": null
      },
      "parameterDataType": "String"
     },
     "widgetInfo": {
      "widgetType": "text",
      "defaultValue": "Z79899",
      "label": null,
      "name": "diagnosis_code",
      "options": {
       "widgetType": "text",
       "autoCreated": false,
       "validationRegex": null
      }
     }
    },
    "ndc_code": {
     "currentValue": "65162027250",
     "nuid": "6afc5047-e798-46b8-aa30-201ac660a225",
     "typedWidgetInfo": {
      "autoCreated": false,
      "defaultValue": "65162027250",
      "label": null,
      "name": "ndc_code",
      "options": {
       "widgetDisplayType": "Text",
       "validationRegex": null
      },
      "parameterDataType": "String"
     },
     "widgetInfo": {
      "widgetType": "text",
      "defaultValue": "65162027250",
      "label": null,
      "name": "ndc_code",
      "options": {
       "widgetType": "text",
       "autoCreated": false,
       "validationRegex": null
      }
     }
    },
    "patient_id": {
     "currentValue": "4baf3314e4a181c5effcf2751fbe1e21",
     "nuid": "5251a58c-2225-4e3e-ac2a-f4bcde2450d4",
     "typedWidgetInfo": {
      "autoCreated": false,
      "defaultValue": "4baf3314e4a181c5effcf2751fbe1e21",
      "label": null,
      "name": "patient_id",
      "options": {
       "widgetDisplayType": "Text",
       "validationRegex": null
      },
      "parameterDataType": "String"
     },
     "widgetInfo": {
      "widgetType": "text",
      "defaultValue": "4baf3314e4a181c5effcf2751fbe1e21",
      "label": null,
      "name": "patient_id",
      "options": {
       "widgetType": "text",
       "autoCreated": false,
       "validationRegex": null
      }
     }
    },
    "service_date": {
     "currentValue": "2021-12-21",
     "nuid": "cec9a8bf-c674-4179-bf82-9c5bdec46d33",
     "typedWidgetInfo": {
      "autoCreated": false,
      "defaultValue": "2021-12-21",
      "label": null,
      "name": "service_date",
      "options": {
       "widgetDisplayType": "Text",
       "validationRegex": null
      },
      "parameterDataType": "String"
     },
     "widgetInfo": {
      "widgetType": "text",
      "defaultValue": "2021-12-21",
      "label": null,
      "name": "service_date",
      "options": {
       "widgetType": "text",
       "autoCreated": false,
       "validationRegex": null
      }
     }
    },
    "source_catalog_name": {
     "currentValue": "HealthVerity_Claims_Sample_Patient_Dataset",
     "nuid": "0fae4e98-a248-4b3f-ac17-4757997a4daf",
     "typedWidgetInfo": {
      "autoCreated": false,
      "defaultValue": "HealthVerity_Claims_Sample_Patient_Dataset",
      "label": null,
      "name": "source_catalog_name",
      "options": {
       "widgetDisplayType": "Text",
       "validationRegex": null
      },
      "parameterDataType": "String"
     },
     "widgetInfo": {
      "widgetType": "text",
      "defaultValue": "HealthVerity_Claims_Sample_Patient_Dataset",
      "label": null,
      "name": "source_catalog_name",
      "options": {
       "widgetType": "text",
       "autoCreated": false,
       "validationRegex": null
      }
     }
    },
    "source_schema_name": {
     "currentValue": "hv_claims_sample",
     "nuid": "1177f96f-bd1f-4b37-aa1e-1472f0e5946a",
     "typedWidgetInfo": {
      "autoCreated": false,
      "defaultValue": "hv_claims_sample",
      "label": null,
      "name": "source_schema_name",
      "options": {
       "widgetDisplayType": "Text",
       "validationRegex": null
      },
      "parameterDataType": "String"
     },
     "widgetInfo": {
      "widgetType": "text",
      "defaultValue": "hv_claims_sample",
      "label": null,
      "name": "source_schema_name",
      "options": {
       "widgetType": "text",
       "autoCreated": false,
       "validationRegex": null
      }
     }
    },
    "target_catalog_name": {
     "currentValue": "yyang",
     "nuid": "3e31b49c-9a52-4328-a156-b2645139bb2a",
     "typedWidgetInfo": {
      "autoCreated": false,
      "defaultValue": "yyang",
      "label": null,
      "name": "target_catalog_name",
      "options": {
       "widgetDisplayType": "Text",
       "validationRegex": null
      },
      "parameterDataType": "String"
     },
     "widgetInfo": {
      "widgetType": "text",
      "defaultValue": "yyang",
      "label": null,
      "name": "target_catalog_name",
      "options": {
       "widgetType": "text",
       "autoCreated": false,
       "validationRegex": null
      }
     }
    },
    "target_schema_name": {
     "currentValue": "ccf_workshop",
     "nuid": "343f35eb-8807-4609-9b1b-7d9f192f22ab",
     "typedWidgetInfo": {
      "autoCreated": false,
      "defaultValue": "ccf_workshop",
      "label": null,
      "name": "target_schema_name",
      "options": {
       "widgetDisplayType": "Text",
       "validationRegex": null
      },
      "parameterDataType": "String"
     },
     "widgetInfo": {
      "widgetType": "text",
      "defaultValue": "ccf_workshop",
      "label": null,
      "name": "target_schema_name",
      "options": {
       "widgetType": "text",
       "autoCreated": false,
       "validationRegex": null
      }
     }
    },
    "workspace_id": {
     "currentValue": "984752964297111",
     "nuid": "dad8759e-139a-44fe-8bd5-7e784ae0f9dc",
     "typedWidgetInfo": {
      "autoCreated": false,
      "defaultValue": "984752964297111",
      "label": null,
      "name": "workspace_id",
      "options": {
       "widgetDisplayType": "Text",
       "validationRegex": null
      },
      "parameterDataType": "String"
     },
     "widgetInfo": {
      "widgetType": "text",
      "defaultValue": "984752964297111",
      "label": null,
      "name": "workspace_id",
      "options": {
       "widgetType": "text",
       "autoCreated": false,
       "validationRegex": null
      }
     }
    }
   }
  },
  "language_info": {
   "name": "python"
  }
 },
 "nbformat": 4,
 "nbformat_minor": 0
}
