{
 "cells": [
  {
   "cell_type": "code",
   "execution_count": 0,
   "metadata": {
    "application/vnd.databricks.v1+cell": {
     "cellMetadata": {
      "byteLimit": 2048000,
      "rowLimit": 10000
     },
     "inputWidgets": {},
     "nuid": "e84ff04b-9283-4fe6-ba4b-d492295ce44a",
     "showTitle": false,
     "tableResultSettingsMap": {},
     "title": ""
    }
   },
   "outputs": [],
   "source": [
    "%pip install -qqqq -U -r requirements.txt\n",
    "\n",
    "dbutils.library.restartPython()"
   ]
  },
  {
   "cell_type": "code",
   "execution_count": 0,
   "metadata": {
    "application/vnd.databricks.v1+cell": {
     "cellMetadata": {
      "byteLimit": 2048000,
      "rowLimit": 10000
     },
     "inputWidgets": {},
     "nuid": "97d354a8-9de0-4cc1-af64-281323e3d65f",
     "showTitle": false,
     "tableResultSettingsMap": {},
     "title": ""
    }
   },
   "outputs": [],
   "source": [
    "import yaml\n",
    "\n",
    "with open(\"config.yaml\", \"r\") as f:\n",
    "    config = yaml.safe_load(f)\n",
    "\n",
    "service_date = config[\"service_date\"]\n",
    "claim_id = config[\"claim_id\"]\n",
    "patient_id = config[\"patient_id\"]\n",
    "diagnosis_code = config[\"diagnosis_code\"]\n",
    "ndc_code = config[\"ndc_code\"]\n",
    "endpoint_name =  \"agents_users-will_smith-\" + config[\"endpoint_name\"]\n",
    "experiment_id = config['experiment_id']"
   ]
  },
  {
   "cell_type": "code",
   "execution_count": 0,
   "metadata": {
    "application/vnd.databricks.v1+cell": {
     "cellMetadata": {
      "byteLimit": 2048000,
      "rowLimit": 10000
     },
     "inputWidgets": {},
     "nuid": "873dad9d-49a1-48d8-8030-39fdbe32b560",
     "showTitle": false,
     "tableResultSettingsMap": {},
     "title": ""
    }
   },
   "outputs": [],
   "source": [
    "import mlflow\n",
    "mlflow.set_experiment(experiment_id=experiment_id)"
   ]
  },
  {
   "cell_type": "markdown",
   "metadata": {
    "application/vnd.databricks.v1+cell": {
     "cellMetadata": {},
     "inputWidgets": {},
     "nuid": "fbc53cbc-ff6a-443c-ab4c-3c246feae30c",
     "showTitle": false,
     "tableResultSettingsMap": {},
     "title": ""
    }
   },
   "source": [
    "### Online monitoring uses live scorers now: [docs](https://learn.microsoft.com/en-us/azure/databricks/mlflow3/genai/eval-monitor/concepts/production-quality-monitoring)\n",
    "\n",
    "### The older monitors are now legacy: [docs](https://learn.microsoft.com/en-us/azure/databricks/mlflow3/genai/eval-monitor/concepts/production-monitoring)."
   ]
  },
  {
   "cell_type": "markdown",
   "metadata": {
    "application/vnd.databricks.v1+cell": {
     "cellMetadata": {},
     "inputWidgets": {},
     "nuid": "d9042d66-1a83-4e82-9d1d-9b60d5e1a21b",
     "showTitle": false,
     "tableResultSettingsMap": {},
     "title": ""
    }
   },
   "source": [
    "Note: At any given time, at most 20 scorers can be associated with an experiment for continuous quality monitoring."
   ]
  },
  {
   "cell_type": "code",
   "execution_count": 0,
   "metadata": {
    "application/vnd.databricks.v1+cell": {
     "cellMetadata": {
      "byteLimit": 2048000,
      "rowLimit": 10000
     },
     "inputWidgets": {},
     "nuid": "0098f002-f3af-4246-a6c7-4d3757e4df56",
     "showTitle": true,
     "tableResultSettingsMap": {},
     "title": "Use a pre-defined scorer"
    }
   },
   "outputs": [],
   "source": [
    "from mlflow.genai.scorers import Safety, scorer, ScorerSamplingConfig\n",
    "\n",
    "# Register the scorer with a name and start monitoring\n",
    "safety_scorer = Safety()\n",
    "safety_scorer.register(name=\"safety_check\")\n",
    "safety_scorer.start(sampling_config=ScorerSamplingConfig(sample_rate=0.5))\n",
    "\n",
    "# Use a specific model\n",
    "# safety_scorer = Safety(model=\"databricks:/databricks-gpt-oss-20b\").register(name=\"safety_check\")"
   ]
  },
  {
   "cell_type": "code",
   "execution_count": 0,
   "metadata": {
    "application/vnd.databricks.v1+cell": {
     "cellMetadata": {
      "byteLimit": 2048000,
      "rowLimit": 10000
     },
     "inputWidgets": {},
     "nuid": "51dfad4b-b2dd-43f3-a1d8-a8e2b731d1cd",
     "showTitle": true,
     "tableResultSettingsMap": {},
     "title": "Use a scorer with guidelines"
    }
   },
   "outputs": [],
   "source": [
    "from mlflow.genai.scorers import Guidelines\n",
    "\n",
    "# Create and register the guidelines scorer\n",
    "english_scorer = Guidelines(\n",
    "  name=\"english\",\n",
    "  guidelines=[\"The response must be in English\"]\n",
    ").register(name=\"is_english\")  # name must be unique to experiment\n",
    "\n",
    "# Start monitoring with the specified sample rate\n",
    "english_scorer = english_scorer.start(sampling_config=ScorerSamplingConfig(sample_rate=0.7))"
   ]
  },
  {
   "cell_type": "code",
   "execution_count": 0,
   "metadata": {
    "application/vnd.databricks.v1+cell": {
     "cellMetadata": {
      "byteLimit": 2048000,
      "rowLimit": 10000
     },
     "inputWidgets": {},
     "nuid": "6c8ef720-cff6-4f41-bfe2-e7c810423269",
     "showTitle": true,
     "tableResultSettingsMap": {},
     "title": "List scorers"
    }
   },
   "outputs": [],
   "source": [
    "from mlflow.genai.scorers import list_scorers\n",
    "\n",
    "# List all registered scorers\n",
    "scorers = list_scorers()\n",
    "for scorer in scorers:\n",
    "    print(f\"Name: {scorer._server_name}\")\n",
    "    print(f\"Sample rate: {scorer.sample_rate}\")\n",
    "    print(f\"Filter: {scorer.filter_string}\")\n",
    "    print(\"---\")"
   ]
  },
  {
   "cell_type": "code",
   "execution_count": 0,
   "metadata": {
    "application/vnd.databricks.v1+cell": {
     "cellMetadata": {
      "byteLimit": 2048000,
      "rowLimit": 10000
     },
     "inputWidgets": {},
     "nuid": "1bc41d54-9148-498d-bfe7-53c2e912cc89",
     "showTitle": true,
     "tableResultSettingsMap": {},
     "title": "Update a scorer with higher sampling rate"
    }
   },
   "outputs": [],
   "source": [
    "from mlflow.genai.scorers import get_scorer\n",
    "\n",
    "# Get existing scorer and update its configuration (immutable operation)\n",
    "safety_scorer = get_scorer(name=\"safety_monitor\")\n",
    "updated_scorer = safety_scorer.update(sampling_config=ScorerSamplingConfig(sample_rate=0.8))  # Increased from 0.5\n",
    "\n",
    "# Note: The original scorer remains unchanged; update() returns a new scorer instance\n",
    "print(f\"Original sample rate: {safety_scorer.sample_rate}\")  # Original rate\n",
    "print(f\"Updated sample rate: {updated_scorer.sample_rate}\")   # New rate"
   ]
  },
  {
   "cell_type": "markdown",
   "metadata": {
    "application/vnd.databricks.v1+cell": {
     "cellMetadata": {},
     "inputWidgets": {},
     "nuid": "38c6f6a6-93b7-4dc0-baad-99ed51c496a7",
     "showTitle": false,
     "tableResultSettingsMap": {},
     "title": ""
    }
   },
   "source": [
    "# Test Traffic"
   ]
  },
  {
   "cell_type": "code",
   "execution_count": 0,
   "metadata": {
    "application/vnd.databricks.v1+cell": {
     "cellMetadata": {
      "byteLimit": 2048000,
      "rowLimit": 10000
     },
     "inputWidgets": {},
     "nuid": "8452c16b-1473-427c-b1e6-5d7c63558bbf",
     "showTitle": false,
     "tableResultSettingsMap": {},
     "title": ""
    }
   },
   "outputs": [],
   "source": [
    "from mlflow import deployments\n",
    "\n",
    "client = deployments.get_deploy_client(\"databricks\")\n",
    "\n",
    "questions = [\n",
    "    \"What information is there for the claim id 12390dfb568442cb957d5b3cfefe1119?\",\n",
    "    \"What is the medical journey for patient: 4baf3314e4a181c5effcf2751fbe1e21\",\n",
    "    \"What claims has the patient 4baf3314e4a181c5effcf2751fbe1e21 had?\",\n",
    "    \"Which claims are associated with the ndc_code: 65162027250?\",\n",
    "    \"Which claims are associated with the diagnosis_code: Z79899?\",\n",
    "    \"What information is there for patient_id: 4baf3314e4a181c5effcf2751fbe1e21 for the service_date: \\\"2021-12-21\\\"\",\n",
    "]\n",
    "\n",
    "for i, question in enumerate(questions, 1):\n",
    "    print(f\"\\nQuestion {i}: {question}\")  \n",
    "    response = client.predict(\n",
    "        endpoint=endpoint_name,\n",
    "        inputs={\n",
    "            \"messages\": [\n",
    "                {\"role\": \"user\", \"content\": question}\n",
    "            ]\n",
    "        }\n",
    "    )\n",
    "    print(response)"
   ]
  },
  {
   "cell_type": "markdown",
   "metadata": {
    "application/vnd.databricks.v1+cell": {
     "cellMetadata": {},
     "inputWidgets": {},
     "nuid": "26ca8b51-b78a-4dfd-a526-115ab144635f",
     "showTitle": false,
     "tableResultSettingsMap": {},
     "title": ""
    }
   },
   "source": [
    "# To see monitoring results:\n",
    "After scheduling scorers, allow 15-20 minutes for initial processing. Then:\n",
    "- Navigate to your MLflow experiment.\n",
    "- Open the Traces tab to see assessments attached to traces.\n",
    "- Use the monitoring dashboards to track quality trends."
   ]
  }
 ],
 "metadata": {
  "application/vnd.databricks.v1+notebook": {
   "computePreferences": null,
   "dashboards": [],
   "environmentMetadata": {
    "base_environment": "",
    "environment_version": "2"
   },
   "inputWidgetPreferences": null,
   "language": "python",
   "notebookMetadata": {
    "pythonIndentUnit": 2
   },
   "notebookName": "04_online_monitoring",
   "widgets": {}
  },
  "language_info": {
   "name": "python"
  }
 },
 "nbformat": 4,
 "nbformat_minor": 0
}
